{
 "cells": [
  {
   "cell_type": "markdown",
   "id": "occupational-switch",
   "metadata": {},
   "source": [
    "# Analyse de données médicales"
   ]
  },
  {
   "cell_type": "markdown",
   "id": "prescribed-milton",
   "metadata": {},
   "source": [
    "Import des librairies nécessaires :"
   ]
  },
  {
   "cell_type": "code",
   "execution_count": 17,
   "id": "special-basket",
   "metadata": {},
   "outputs": [],
   "source": [
    "import pandas as pd\n",
    "import seaborn as sns\n",
    "import matplotlib.pyplot as plt\n",
    "import numpy as np"
   ]
  },
  {
   "cell_type": "markdown",
   "id": "human-giant",
   "metadata": {},
   "source": [
    "Import du fichier csv :"
   ]
  },
  {
   "cell_type": "code",
   "execution_count": 73,
   "id": "crude-forth",
   "metadata": {},
   "outputs": [],
   "source": [
    "df = pd.read_csv('medical_examination.csv')"
   ]
  },
  {
   "cell_type": "code",
   "execution_count": 97,
   "id": "spatial-musician",
   "metadata": {},
   "outputs": [
    {
     "data": {
      "text/html": [
       "<div>\n",
       "<style scoped>\n",
       "    .dataframe tbody tr th:only-of-type {\n",
       "        vertical-align: middle;\n",
       "    }\n",
       "\n",
       "    .dataframe tbody tr th {\n",
       "        vertical-align: top;\n",
       "    }\n",
       "\n",
       "    .dataframe thead th {\n",
       "        text-align: right;\n",
       "    }\n",
       "</style>\n",
       "<table border=\"1\" class=\"dataframe\">\n",
       "  <thead>\n",
       "    <tr style=\"text-align: right;\">\n",
       "      <th></th>\n",
       "      <th>id</th>\n",
       "      <th>age</th>\n",
       "      <th>gender</th>\n",
       "      <th>height</th>\n",
       "      <th>weight</th>\n",
       "      <th>ap_hi</th>\n",
       "      <th>ap_lo</th>\n",
       "      <th>cholesterol</th>\n",
       "      <th>gluc</th>\n",
       "      <th>smoke</th>\n",
       "      <th>alco</th>\n",
       "      <th>active</th>\n",
       "      <th>cardio</th>\n",
       "      <th>overweight</th>\n",
       "    </tr>\n",
       "  </thead>\n",
       "  <tbody>\n",
       "    <tr>\n",
       "      <th>0</th>\n",
       "      <td>0</td>\n",
       "      <td>18393</td>\n",
       "      <td>2</td>\n",
       "      <td>168</td>\n",
       "      <td>62.0</td>\n",
       "      <td>110</td>\n",
       "      <td>80</td>\n",
       "      <td>0</td>\n",
       "      <td>0</td>\n",
       "      <td>0</td>\n",
       "      <td>0</td>\n",
       "      <td>1</td>\n",
       "      <td>0</td>\n",
       "      <td>False</td>\n",
       "    </tr>\n",
       "    <tr>\n",
       "      <th>1</th>\n",
       "      <td>1</td>\n",
       "      <td>20228</td>\n",
       "      <td>1</td>\n",
       "      <td>156</td>\n",
       "      <td>85.0</td>\n",
       "      <td>140</td>\n",
       "      <td>90</td>\n",
       "      <td>1</td>\n",
       "      <td>0</td>\n",
       "      <td>0</td>\n",
       "      <td>0</td>\n",
       "      <td>1</td>\n",
       "      <td>1</td>\n",
       "      <td>True</td>\n",
       "    </tr>\n",
       "    <tr>\n",
       "      <th>2</th>\n",
       "      <td>2</td>\n",
       "      <td>18857</td>\n",
       "      <td>1</td>\n",
       "      <td>165</td>\n",
       "      <td>64.0</td>\n",
       "      <td>130</td>\n",
       "      <td>70</td>\n",
       "      <td>1</td>\n",
       "      <td>0</td>\n",
       "      <td>0</td>\n",
       "      <td>0</td>\n",
       "      <td>0</td>\n",
       "      <td>1</td>\n",
       "      <td>False</td>\n",
       "    </tr>\n",
       "    <tr>\n",
       "      <th>3</th>\n",
       "      <td>3</td>\n",
       "      <td>17623</td>\n",
       "      <td>2</td>\n",
       "      <td>169</td>\n",
       "      <td>82.0</td>\n",
       "      <td>150</td>\n",
       "      <td>100</td>\n",
       "      <td>0</td>\n",
       "      <td>0</td>\n",
       "      <td>0</td>\n",
       "      <td>0</td>\n",
       "      <td>1</td>\n",
       "      <td>1</td>\n",
       "      <td>True</td>\n",
       "    </tr>\n",
       "    <tr>\n",
       "      <th>4</th>\n",
       "      <td>4</td>\n",
       "      <td>17474</td>\n",
       "      <td>1</td>\n",
       "      <td>156</td>\n",
       "      <td>56.0</td>\n",
       "      <td>100</td>\n",
       "      <td>60</td>\n",
       "      <td>0</td>\n",
       "      <td>0</td>\n",
       "      <td>0</td>\n",
       "      <td>0</td>\n",
       "      <td>0</td>\n",
       "      <td>0</td>\n",
       "      <td>False</td>\n",
       "    </tr>\n",
       "  </tbody>\n",
       "</table>\n",
       "</div>"
      ],
      "text/plain": [
       "   id    age  gender  height  weight  ap_hi  ap_lo  cholesterol  gluc  smoke  \\\n",
       "0   0  18393       2     168    62.0    110     80            0     0      0   \n",
       "1   1  20228       1     156    85.0    140     90            1     0      0   \n",
       "2   2  18857       1     165    64.0    130     70            1     0      0   \n",
       "3   3  17623       2     169    82.0    150    100            0     0      0   \n",
       "4   4  17474       1     156    56.0    100     60            0     0      0   \n",
       "\n",
       "   alco  active  cardio  overweight  \n",
       "0     0       1       0       False  \n",
       "1     0       1       1        True  \n",
       "2     0       0       1       False  \n",
       "3     0       1       1        True  \n",
       "4     0       0       0       False  "
      ]
     },
     "execution_count": 97,
     "metadata": {},
     "output_type": "execute_result"
    }
   ],
   "source": [
    "df.head()"
   ]
  },
  {
   "cell_type": "markdown",
   "id": "continuing-settlement",
   "metadata": {},
   "source": [
    "Ajout d'une colonne surpoids. Si le patient possède un IMC de plus de 25 : True"
   ]
  },
  {
   "cell_type": "code",
   "execution_count": 80,
   "id": "copyrighted-craps",
   "metadata": {},
   "outputs": [],
   "source": [
    "df['overweight'] = (df['weight'] / (df['height'] / 100) ** 2) > 25"
   ]
  },
  {
   "cell_type": "markdown",
   "id": "hindu-metallic",
   "metadata": {},
   "source": [
    "### Normalisation des données \n",
    "Si cholestérol ou gluc est supérieur ou = à 1 alors on affiche 1."
   ]
  },
  {
   "cell_type": "code",
   "execution_count": 87,
   "id": "experienced-symbol",
   "metadata": {},
   "outputs": [],
   "source": [
    "chol_gluc_dict = { 1: 0, 2: 1, 3: 1}\n",
    "df['cholesterol'] = df['cholesterol'].map(chol_gluc_dict)\n",
    "df['gluc'] = df['gluc'].map(chol_gluc_dict)"
   ]
  },
  {
   "cell_type": "markdown",
   "id": "brazilian-stuff",
   "metadata": {},
   "source": [
    "### I) Comparaison du profil entre patients avec pb cardiaque et sans problèmes"
   ]
  },
  {
   "cell_type": "markdown",
   "id": "billion-binding",
   "metadata": {},
   "source": [
    "Mise en forme des données (pd.melt pour passer en format long)"
   ]
  },
  {
   "cell_type": "code",
   "execution_count": 92,
   "id": "ongoing-sender",
   "metadata": {},
   "outputs": [],
   "source": [
    "df_cat = pd.melt(df, id_vars='cardio', value_vars=[\n",
    "                     'active', 'alco', 'cholesterol', 'gluc', 'overweight', 'smoke'])"
   ]
  },
  {
   "cell_type": "code",
   "execution_count": 93,
   "id": "visible-chaos",
   "metadata": {},
   "outputs": [],
   "source": [
    "df_cat = pd.DataFrame(df_cat.groupby(['variable', 'value', 'cardio'])['value'].count()).rename(\n",
    "        columns={'value': 'total'}).reset_index()"
   ]
  },
  {
   "cell_type": "markdown",
   "id": "unauthorized-width",
   "metadata": {},
   "source": [
    "Mise en forme du graph :"
   ]
  },
  {
   "cell_type": "code",
   "execution_count": 90,
   "id": "silver-island",
   "metadata": {},
   "outputs": [
    {
     "data": {
      "text/plain": [
       "<seaborn.axisgrid.FacetGrid at 0x7fc259db1b20>"
      ]
     },
     "execution_count": 90,
     "metadata": {},
     "output_type": "execute_result"
    },
    {
     "data": {
      "image/png": "[encoded data removed]",
      "text/plain": [
       "<Figure size 762.375x360 with 2 Axes>"
      ]
     },
     "metadata": {
      "needs_background": "light"
     },
     "output_type": "display_data"
    }
   ],
   "source": [
    "sns.catplot(x='variable', y='total', data=df_cat,\n",
    "                hue='value', col='cardio', kind='bar')"
   ]
  },
  {
   "cell_type": "markdown",
   "id": "suspended-ivory",
   "metadata": {},
   "source": [
    "## II) Heatmap"
   ]
  },
  {
   "cell_type": "markdown",
   "id": "helpful-county",
   "metadata": {},
   "source": [
    "### Data cleaning\n",
    "Enlever les valeurs aberrantes"
   ]
  },
  {
   "cell_type": "code",
   "execution_count": 95,
   "id": "second-restoration",
   "metadata": {},
   "outputs": [],
   "source": [
    "df_heat = df[(df['ap_lo'] <= df['ap_hi']) & \n",
    "        (df['height'] >= df['height'].quantile(0.025)) &\n",
    "        (df['height'] <= df['height'].quantile(0.975)) &\n",
    "        (df['weight'] >= df['weight'].quantile(0.025)) & \n",
    "        (df['weight'] <= df['weight'].quantile(0.975))]"
   ]
  },
  {
   "cell_type": "markdown",
   "id": "thirty-europe",
   "metadata": {},
   "source": [
    "### Création de la matrice"
   ]
  },
  {
   "cell_type": "code",
   "execution_count": 96,
   "id": "veterinary-ceiling",
   "metadata": {},
   "outputs": [
    {
     "data": {
      "text/plain": [
       "<AxesSubplot:>"
      ]
     },
     "execution_count": 96,
     "metadata": {},
     "output_type": "execute_result"
    },
    {
     "data": {
      "image/png": "[encoded data removed]",
      "text/plain": [
       "<Figure size 720x720 with 2 Axes>"
      ]
     },
     "metadata": {
      "needs_background": "light"
     },
     "output_type": "display_data"
    }
   ],
   "source": [
    "# calcul de la matrice\n",
    "corr = df_heat.corr()\n",
    "\n",
    "# Afin de ne pas afficher 2 fois les mêmes correlations. On enlève la partie droit au dessus de la diagonale. (Technique détaillée dans la doc de Seaborn)\n",
    "mask = np.zeros_like(corr, dtype=np.bool)\n",
    "mask[np.triu_indices_from(mask)] = True\n",
    "\n",
    "# Création du canvas\n",
    "plt.subplots(figsize=(10, 10))\n",
    "\n",
    "# Mise en forme de la heatmap\n",
    "sns.heatmap(corr,annot=True, fmt='.1f', square= True, mask=mask, vmin=-0.1,vmax=0.25,cbar_kws={'shrink':0.55, 'format':'%.2f'})"
   ]
  }
 ],
 "metadata": {
  "kernelspec": {
   "display_name": "Python 3",
   "language": "python",
   "name": "python3"
  },
  "language_info": {
   "codemirror_mode": {
    "name": "ipython",
    "version": 3
   },
   "file_extension": ".py",
   "mimetype": "text/x-python",
   "name": "python",
   "nbconvert_exporter": "python",
   "pygments_lexer": "ipython3",
   "version": "3.8.5"
  }
 },
 "nbformat": 4,
 "nbformat_minor": 5
}
